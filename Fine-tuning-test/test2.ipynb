{
 "cells": [
  {
   "cell_type": "code",
   "execution_count": null,
   "metadata": {},
   "outputs": [],
   "source": [
    "pip install pandas"
   ]
  },
  {
   "cell_type": "code",
   "execution_count": null,
   "metadata": {},
   "outputs": [],
   "source": [
    "pip install openpyxl"
   ]
  },
  {
   "cell_type": "code",
   "execution_count": null,
   "metadata": {},
   "outputs": [],
   "source": [
    "import pandas as pd\n",
    "\n",
    "# 파일 경로를 raw string으로 처리하여 전달합니다.\n",
    "df = pd.read_excel(r'C:\\TeamProject\\SK-Networks-AI-1\\ATT\\ATT-Frontend\\Fine-tuning-test\\data\\트위터_대화시나리오DB_2000Set.xlsx')\n",
    "\n",
    "# SNS 구매 대화라 못쓰겠다"
   ]
  }
 ],
 "metadata": {
  "language_info": {
   "name": "python"
  }
 },
 "nbformat": 4,
 "nbformat_minor": 2
}
