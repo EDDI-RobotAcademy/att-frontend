{
 "cells": [
  {
   "cell_type": "code",
   "execution_count": 1,
   "metadata": {},
   "outputs": [
    {
     "name": "stdout",
     "output_type": "stream",
     "text": [
      "Note: you may need to restart the kernel to use updated packages.\n",
      "Collecting jsonlines\n",
      "  Obtaining dependency information for jsonlines from https://files.pythonhosted.org/packages/f8/62/d9ba6323b9202dd2fe166beab8a86d29465c41a0288cbe229fac60c1ab8d/jsonlines-4.0.0-py3-none-any.whl.metadata\n",
      "  Downloading jsonlines-4.0.0-py3-none-any.whl.metadata (1.6 kB)\n",
      "Collecting attrs>=19.2.0 (from jsonlines)\n",
      "  Obtaining dependency information for attrs>=19.2.0 from https://files.pythonhosted.org/packages/6a/21/5b6702a7f963e95456c0de2d495f67bf5fd62840ac655dc451586d23d39a/attrs-24.2.0-py3-none-any.whl.metadata\n",
      "  Using cached attrs-24.2.0-py3-none-any.whl.metadata (11 kB)\n",
      "Downloading jsonlines-4.0.0-py3-none-any.whl (8.7 kB)\n",
      "Using cached attrs-24.2.0-py3-none-any.whl (63 kB)\n",
      "Installing collected packages: attrs, jsonlines\n",
      "Successfully installed attrs-24.2.0 jsonlines-4.0.0\n"
     ]
    },
    {
     "name": "stderr",
     "output_type": "stream",
     "text": [
      "\n",
      "[notice] A new release of pip is available: 23.2.1 -> 24.2\n",
      "[notice] To update, run: python.exe -m pip install --upgrade pip\n"
     ]
    }
   ],
   "source": [
    "pip install jsonlines"
   ]
  },
  {
   "cell_type": "code",
   "execution_count": 6,
   "metadata": {},
   "outputs": [
    {
     "name": "stdout",
     "output_type": "stream",
     "text": [
      "Validation complete.\n"
     ]
    },
    {
     "name": "stderr",
     "output_type": "stream",
     "text": [
      "<>:4: SyntaxWarning: invalid escape sequence '\\T'\n",
      "<>:4: SyntaxWarning: invalid escape sequence '\\T'\n",
      "C:\\Users\\USER\\AppData\\Local\\Temp\\ipykernel_1348\\3300495644.py:4: SyntaxWarning: invalid escape sequence '\\T'\n",
      "  file_path = r='C:\\TeamProject\\SK-Networks-AI-1\\ATT\\ATT-Frontend\\Fine-tuning-test\\data\\istp_test_final_ver1.jsonl'\n"
     ]
    }
   ],
   "source": [
    "import jsonlines\n",
    "\n",
    "# JSONL 파일 경로\n",
    "file_path = r='C:\\TeamProject\\SK-Networks-AI-1\\ATT\\ATT-Frontend\\Fine-tuning-test\\data\\istp_test_final_ver1.jsonl'\n",
    "\n",
    "# JSONL 파일 읽기\n",
    "with jsonlines.open(file_path) as reader:\n",
    "    for i, obj in enumerate(reader):\n",
    "        try:\n",
    "            messages = obj.get(\"messages\", [])\n",
    "            for message in messages:\n",
    "                role = message.get(\"role\")\n",
    "                content = message.get(\"content\")\n",
    "                if role not in [\"system\", \"user\", \"assistant\"]:\n",
    "                    print(f\"Invalid role at line {i + 1}: {role}\")\n",
    "                if not isinstance(content, str):\n",
    "                    print(f\"Invalid content at line {i + 1}: {content}\")\n",
    "        except Exception as e:\n",
    "            print(f\"Error processing line {i + 1}: {e}\")\n",
    "\n",
    "print(\"Validation complete.\")\n"
   ]
  }
 ],
 "metadata": {
  "kernelspec": {
   "display_name": ".venv",
   "language": "python",
   "name": "python3"
  },
  "language_info": {
   "codemirror_mode": {
    "name": "ipython",
    "version": 3
   },
   "file_extension": ".py",
   "mimetype": "text/x-python",
   "name": "python",
   "nbconvert_exporter": "python",
   "pygments_lexer": "ipython3",
   "version": "3.12.3"
  }
 },
 "nbformat": 4,
 "nbformat_minor": 2
}
