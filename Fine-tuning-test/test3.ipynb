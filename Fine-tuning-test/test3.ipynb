{
 "cells": [
  {
   "cell_type": "code",
   "execution_count": 1,
   "metadata": {},
   "outputs": [
    {
     "name": "stdout",
     "output_type": "stream",
     "text": [
      "Requirement already satisfied: pandas in c:\\teamproject\\sk-networks-ai-1\\att\\att-frontend\\.venv\\lib\\site-packages (2.2.2)\n",
      "Requirement already satisfied: numpy>=1.26.0 in c:\\teamproject\\sk-networks-ai-1\\att\\att-frontend\\.venv\\lib\\site-packages (from pandas) (2.1.0)\n",
      "Requirement already satisfied: python-dateutil>=2.8.2 in c:\\teamproject\\sk-networks-ai-1\\att\\att-frontend\\.venv\\lib\\site-packages (from pandas) (2.9.0.post0)\n",
      "Requirement already satisfied: pytz>=2020.1 in c:\\teamproject\\sk-networks-ai-1\\att\\att-frontend\\.venv\\lib\\site-packages (from pandas) (2024.1)\n",
      "Requirement already satisfied: tzdata>=2022.7 in c:\\teamproject\\sk-networks-ai-1\\att\\att-frontend\\.venv\\lib\\site-packages (from pandas) (2024.1)\n",
      "Requirement already satisfied: six>=1.5 in c:\\teamproject\\sk-networks-ai-1\\att\\att-frontend\\.venv\\lib\\site-packages (from python-dateutil>=2.8.2->pandas) (1.16.0)\n",
      "Note: you may need to restart the kernel to use updated packages.\n"
     ]
    },
    {
     "name": "stderr",
     "output_type": "stream",
     "text": [
      "\n",
      "[notice] A new release of pip is available: 23.2.1 -> 24.2\n",
      "[notice] To update, run: python.exe -m pip install --upgrade pip\n"
     ]
    }
   ],
   "source": [
    "pip install pandas"
   ]
  },
  {
   "cell_type": "code",
   "execution_count": 17,
   "metadata": {},
   "outputs": [],
   "source": [
    "import pandas as pd\n",
    "import json\n",
    "\n",
    "# JSONL 파일을 읽어옵니다.\n",
    "with open(r'C:\\TeamProject\\SK-Networks-AI-1\\ATT\\ATT-Frontend\\Fine-tuning-test/Data\\istp_test_final_ver21.jsonl', 'r', encoding='utf-8') as f:\n",
    "    lines = f.readlines()\n",
    "\n",
    "# 새로운 JSONL 파일을 작성합니다.\n",
    "with open('istp_test_final_ver21.jsonl', 'w', encoding='utf-8') as f:\n",
    "    for line in lines:\n",
    "        # 각 라인을 JSON 객체로 변환합니다.\n",
    "        data = json.loads(line)\n",
    "        \n",
    "        # system 메시지의 content를 수정합니다.\n",
    "        data['messages'][0]['content'] = (\"너의 MBTI는 ISTP야. 너는 현재 상대방과 이성으로서 알아가는 대화를 나누고 있어. 그리고 너는 사람처럼 대답해야 해.\")\n",
    "        \n",
    "        # 수정된 JSON 객체를 파일에 작성합니다.\n",
    "        f.write(json.dumps(data, ensure_ascii=False) + '\\n')"
   ]
  }
 ],
 "metadata": {
  "kernelspec": {
   "display_name": ".venv",
   "language": "python",
   "name": "python3"
  },
  "language_info": {
   "codemirror_mode": {
    "name": "ipython",
    "version": 3
   },
   "file_extension": ".py",
   "mimetype": "text/x-python",
   "name": "python",
   "nbconvert_exporter": "python",
   "pygments_lexer": "ipython3",
   "version": "3.12.3"
  }
 },
 "nbformat": 4,
 "nbformat_minor": 2
}
