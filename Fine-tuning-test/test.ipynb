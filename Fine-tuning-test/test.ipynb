{
 "cells": [
  {
   "cell_type": "code",
   "execution_count": 1,
   "metadata": {},
   "outputs": [
    {
     "name": "stdout",
     "output_type": "stream",
     "text": [
      "Requirement already satisfied: pandas in c:\\teamproject\\sk-networks-ai-1\\att\\att-frontend\\.venv\\lib\\site-packages (2.2.2)\n",
      "Requirement already satisfied: numpy>=1.26.0 in c:\\teamproject\\sk-networks-ai-1\\att\\att-frontend\\.venv\\lib\\site-packages (from pandas) (2.1.0)\n",
      "Requirement already satisfied: python-dateutil>=2.8.2 in c:\\teamproject\\sk-networks-ai-1\\att\\att-frontend\\.venv\\lib\\site-packages (from pandas) (2.9.0.post0)\n",
      "Requirement already satisfied: pytz>=2020.1 in c:\\teamproject\\sk-networks-ai-1\\att\\att-frontend\\.venv\\lib\\site-packages (from pandas) (2024.1)\n",
      "Requirement already satisfied: tzdata>=2022.7 in c:\\teamproject\\sk-networks-ai-1\\att\\att-frontend\\.venv\\lib\\site-packages (from pandas) (2024.1)\n",
      "Requirement already satisfied: six>=1.5 in c:\\teamproject\\sk-networks-ai-1\\att\\att-frontend\\.venv\\lib\\site-packages (from python-dateutil>=2.8.2->pandas) (1.16.0)\n",
      "Note: you may need to restart the kernel to use updated packages.\n"
     ]
    },
    {
     "name": "stderr",
     "output_type": "stream",
     "text": [
      "\n",
      "[notice] A new release of pip is available: 23.2.1 -> 24.2\n",
      "[notice] To update, run: python.exe -m pip install --upgrade pip\n"
     ]
    }
   ],
   "source": [
    "pip install pandas"
   ]
  },
  {
   "cell_type": "code",
   "execution_count": 3,
   "metadata": {},
   "outputs": [
    {
     "name": "stdout",
     "output_type": "stream",
     "text": [
      "JSON 파일이 성공적으로 저장되었습니다!\n"
     ]
    }
   ],
   "source": [
    "import pandas as pd\n",
    "\n",
    "# TSV 파일 읽기\n",
    "tsv_file = r'C:\\TeamProject\\SK-Networks-AI-1\\ATT\\ATT-Frontend\\Fine-tuning-test\\data\\multiple_qna_cleaned.tsv'\n",
    "df = pd.read_csv(tsv_file, sep='\\t')\n",
    "\n",
    "# 'ISTP'와 '소개'가 모두 포함된 행 추출\n",
    "filtered_df1 = df[df.apply(lambda row: row.astype(str).str.contains('istp').any() and row.astype(str).str.contains('소개').any(), axis=1)]\n",
    "\n",
    "# 'ISTP'와 '연애'가 모두 포함된 행 추출\n",
    "filtered_df2 = df[df.apply(lambda row: row.astype(str).str.contains('istp').any() and row.astype(str).str.contains('연애').any(), axis=1)]\n",
    "\n",
    "# 결과 저장 경로 설정\n",
    "save_path = r'C:\\TeamProject\\SK-Networks-AI-1\\ATT\\ATT-Frontend\\Fine-tuning-test\\result'\n",
    "\n",
    "# 결과를 JSON 파일로 저장\n",
    "filtered_df1.to_json(f'{save_path}\\\\filtered_istp_intro.json', orient='records', force_ascii=False)\n",
    "filtered_df2.to_json(f'{save_path}\\\\filtered_istp_dating.json', orient='records', force_ascii=False)\n",
    "\n",
    "print(\"JSON 파일이 성공적으로 저장되었습니다!\")"
   ]
  },
  {
   "cell_type": "code",
   "execution_count": 9,
   "metadata": {},
   "outputs": [
    {
     "name": "stdout",
     "output_type": "stream",
     "text": [
      "JSON 데이터가 'output.json' 파일에 저장되었습니다.\n"
     ]
    }
   ],
   "source": [
    "import json\n",
    "\n",
    "# 입력된 대본 텍스트\n",
    "script = \"\"\"\n",
    "\"\"\"\n",
    "\n",
    "# 대본 텍스트를 줄 단위로 나눔\n",
    "lines = script.split('\\n')  # 줄 단위로 나누기\n",
    "\n",
    "# 대본을 JSON 형식으로 변환\n",
    "json_data = {\"messages\": []}\n",
    "\n",
    "# 대화 쌍을 저장하기 위한 임시 리스트\n",
    "dialogue_pairs = []\n",
    "\n",
    "# 대화가 시작되는 부분부터 처리\n",
    "for line in lines:\n",
    "    # 라인에서 대화 부분을 추출\n",
    "    if ':' in line:\n",
    "        parts = line.split(':', 1)  # ':' 기준으로 나눔\n",
    "        speaker = parts[0].strip()  # 화자 (시간 포함)\n",
    "        content = parts[1].strip()  # 대화 내용\n",
    "        \n",
    "        # 화자를 기준으로 user와 assistant 나누기 (가정: 짝수번째 대화는 user, 홀수번째는 assistant)\n",
    "        if '음악' not in speaker:  # 배경음악 설명 등은 제외\n",
    "            if len(dialogue_pairs) % 2 == 0:\n",
    "                dialogue_pairs.append({\n",
    "                    \"role\": \"user\",\n",
    "                    \"content\": content\n",
    "                })\n",
    "            else:\n",
    "                dialogue_pairs.append({\n",
    "                    \"role\": \"assistant\",\n",
    "                    \"content\": content\n",
    "                })\n",
    "\n",
    "# 시스템 메시지 추가\n",
    "json_data[\"messages\"].append({\n",
    "    \"role\": \"system\",\n",
    "    \"content\": \"너의 MBTI는 ISTP야. 너 이름은 김소현이야. 너는 현재 상대방과 이성으로서 알아가는 대화를 나누고 있어.\"\n",
    "})\n",
    "\n",
    "# 대화 쌍을 JSON 데이터에 추가\n",
    "json_data[\"messages\"].extend(dialogue_pairs)\n",
    "\n",
    "# JSON 데이터를 파일로 저장\n",
    "with open('output.json', 'w', encoding='utf-8') as f:\n",
    "    json.dump(json_data, f, indent=2, ensure_ascii=False)\n",
    "\n",
    "print(\"JSON 데이터가 'output.json' 파일에 저장되었습니다.\")"
   ]
  }
 ],
 "metadata": {
  "kernelspec": {
   "display_name": "Python 3",
   "language": "python",
   "name": "python3"
  },
  "language_info": {
   "codemirror_mode": {
    "name": "ipython",
    "version": 3
   },
   "file_extension": ".py",
   "mimetype": "text/x-python",
   "name": "python",
   "nbconvert_exporter": "python",
   "pygments_lexer": "ipython3",
   "version": "3.12.3"
  }
 },
 "nbformat": 4,
 "nbformat_minor": 2
}
